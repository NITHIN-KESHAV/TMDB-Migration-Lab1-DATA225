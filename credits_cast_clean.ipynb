{
  "cells": [
    {
      "cell_type": "code",
      "execution_count": null,
      "id": "22f3cff6-5324-4686-a32e-9c7b72950597",
      "metadata": {
        "id": "22f3cff6-5324-4686-a32e-9c7b72950597"
      },
      "outputs": [],
      "source": [
        "import pandas as pd\n",
        "import json\n",
        "\n",
        "# Load the CSV file\n",
        "credits = pd.read_csv('credits.csv')\n",
        "cast_1 = credits[\"cast\"].apply(eval).apply(lambda x: [(d[\"id\"], d[\"credit_id\"], d[\"character\"], d[\"gender\"], d[\"order\"], d[\"name\"], d[\"profile_path\"]) for d in x])\n",
        "credits.drop(['crew', 'cast'], axis = 1, inplace = True)\n",
        "credits = pd.concat([credits,cast_1], axis =1)\n",
        "\n",
        "final_credits = credits.explode('cast')\n",
        "final_credits.dropna(subset=['cast'], inplace=True)\n",
        "\n",
        "final_credits[['cast_id', 'cast_credit_id', 'cast_character' , 'cast_gender', 'cast_order', 'cast_name' , 'cast_profile_path']] = final_credits['cast'].apply(lambda x: pd.Series({'cast_id': x[0], 'cast_credit_id': x[1], 'cast_character': x[2], 'cast_gender': x[3], 'cast_order': x[4], 'cast_name': x[5], 'cast_profile_path': x[6]}))\n",
        "final_credits.drop(columns=['cast'], inplace=True)\n",
        "final_credits.reset_index(drop=True, inplace=True)\n",
        "final_credits = final_credits.rename(columns={'id':'movie_id'})\n",
        "\n",
        "# Drop duplicate rows\n",
        "final_credits.drop_duplicates(subset='cast_credit_id', keep='first', inplace=True)\n",
        "\n",
        "# Saving the data into a new CSV file\n",
        "final_credits.to_csv('final_cast.csv', index = False)"
      ]
    }
  ],
  "metadata": {
    "kernelspec": {
      "display_name": "Python 3 (ipykernel)",
      "language": "python",
      "name": "python3"
    },
    "language_info": {
      "codemirror_mode": {
        "name": "ipython",
        "version": 3
      },
      "file_extension": ".py",
      "mimetype": "text/x-python",
      "name": "python",
      "nbconvert_exporter": "python",
      "pygments_lexer": "ipython3",
      "version": "3.11.5"
    },
    "colab": {
      "provenance": []
    }
  },
  "nbformat": 4,
  "nbformat_minor": 5
}