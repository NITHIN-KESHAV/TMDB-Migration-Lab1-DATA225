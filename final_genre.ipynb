{
  "cells": [
    {
      "cell_type": "code",
      "execution_count": null,
      "id": "10c7ab33-67ef-4aa3-ab0f-334a7da4ba1a",
      "metadata": {
        "tags": [],
        "id": "10c7ab33-67ef-4aa3-ab0f-334a7da4ba1a",
        "outputId": "0c38120c-1f84-451e-d76b-c23445a9a8e9"
      },
      "outputs": [
        {
          "name": "stdout",
          "output_type": "stream",
          "text": [
            "int64\n"
          ]
        }
      ],
      "source": [
        "import pandas as pd\n",
        "\n",
        "data = pd.read_csv('movies_metadata.csv', low_memory=False)\n",
        "\n",
        "data['genres'] = data['genres'].apply(eval)\n",
        "\n",
        "# Split the 'genres' column into individual rows using explode, expanding each dictionary within the list into its own separate row.\n",
        "data = data.explode('genres')\n",
        "\n",
        "# Filter out non-dictionary values\n",
        "data = data[data['genres'].apply(lambda x: isinstance(x, dict))]\n",
        "\n",
        "# Convert the dictionaries into separate columns\n",
        "data[['genre_id', 'genre_name']] = pd.DataFrame(data['genres'].tolist())\n",
        "\n",
        "data.drop(columns=['adult', 'belongs_to_collection', 'budget', 'genres', 'homepage',\n",
        "       'imdb_id', 'original_language', 'original_title', 'overview',\n",
        "       'popularity', 'poster_path', 'production_companies',\n",
        "       'production_countries', 'release_date', 'revenue', 'runtime',\n",
        "       'spoken_languages', 'status', 'tagline', 'title', 'video',\n",
        "       'vote_average', 'vote_count'], inplace=True)\n",
        "\n",
        "# Resetting the index\n",
        "data.reset_index(drop=True, inplace=True)\n",
        "\n",
        "# Renaming the columns\n",
        "data.rename(columns={'genre_id': 'genre_id',\n",
        "                     'genre_name': 'genre_name',\n",
        "                     'id': 'movie_id'}, inplace=True)\n",
        "\n",
        "regex_pattern = r\"^\\d{4}-\\d{2}-\\d{2}$\"\n",
        "\n",
        "# Creating a boolean mask to filter rows\n",
        "mask = ~data['movie_id'].str.contains(regex_pattern)\n",
        "\n",
        "# Drop rows using `.drop` with the mask (in-place)\n",
        "data.drop(data[~mask].index, inplace=True)\n",
        "\n",
        "data['genres_comp'] = data['movie_id'].astype(str) + '_' + data['genre_id'].astype(str)\n",
        "\n",
        "# Converting movie_id datatype from str to int\n",
        "data['movie_id'] = data['movie_id'].astype(int)\n",
        "\n",
        "# Dropping primary keys duplicates\n",
        "data.drop_duplicates(subset='genres_comp', keep='first', inplace = True)\n",
        "\n",
        "# Save the Data into a new file\n",
        "data.to_csv('final_genres.csv', index = False)"
      ]
    }
  ],
  "metadata": {
    "kernelspec": {
      "display_name": "Python 3 (ipykernel)",
      "language": "python",
      "name": "python3"
    },
    "language_info": {
      "codemirror_mode": {
        "name": "ipython",
        "version": 3
      },
      "file_extension": ".py",
      "mimetype": "text/x-python",
      "name": "python",
      "nbconvert_exporter": "python",
      "pygments_lexer": "ipython3",
      "version": "3.11.5"
    },
    "colab": {
      "provenance": []
    }
  },
  "nbformat": 4,
  "nbformat_minor": 5
}