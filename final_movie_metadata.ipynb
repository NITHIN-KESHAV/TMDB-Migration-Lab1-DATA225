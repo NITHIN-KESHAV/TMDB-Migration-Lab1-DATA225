{
  "cells": [
    {
      "cell_type": "code",
      "execution_count": null,
      "id": "d4d04d06-7566-4a9d-b0eb-43152d5502b1",
      "metadata": {
        "tags": [],
        "id": "d4d04d06-7566-4a9d-b0eb-43152d5502b1"
      },
      "outputs": [],
      "source": [
        "import pandas as pd\n",
        "\n",
        "data = pd.read_csv('movies_metadata.csv', low_memory=False)\n",
        "\n",
        "# Drop the original 'cast' column\n",
        "data.drop(columns=['belongs_to_collection','genres',\n",
        "       'production_companies',\n",
        "       'production_countries',\n",
        "       'spoken_languages'], inplace=True)\n",
        "\n",
        "# Resetting the index\n",
        "data.reset_index(drop=True, inplace=True)\n",
        "\n",
        "# Renaming the columns\n",
        "data.rename(columns={'id': 'movie_id'}, inplace=True)\n",
        "\n",
        "# Dropping duplicate rows\n",
        "data.drop_duplicates(subset='movie_id', keep='first', inplace = True)\n",
        "\n",
        "regex_pattern = r\"^\\d{4}-\\d{2}-\\d{2}$\"\n",
        "\n",
        "# Create=ing a boolean mask to filter rows\n",
        "mask = ~data['movie_id'].str.contains(regex_pattern)\n",
        "\n",
        "# Dropping rows using `.drop` with the mask (in-place)\n",
        "data.drop(data[~mask].index, inplace=True)\n",
        "\n",
        "# Converting movie_id datatype from str to int\n",
        "data['movie_id'] = data['movie_id'].astype(int)\n",
        "\n",
        "regex_pattern1 = r'^tt'\n",
        "\n",
        "# Use str.replace with the regex pattern to remove \"tt\"\n",
        "data['imdb_id'] = data['imdb_id'].str.replace(regex_pattern1, '', regex=True)\n",
        "\n",
        "# Removing commas in overview\n",
        "data['overview'] = data['overview'].str.replace(',', '')\n",
        "data['overview'] = data['overview'].str.replace('.', '')\n",
        "data['tagline'] = data['tagline'].str.replace(',', '')\n",
        "data['tagline'] = data['tagline'].str.replace('.', '')\n",
        "\n",
        "# Save data into a new file\n",
        "data.to_csv('final_movie_metadata.csv', index = False)"
      ]
    }
  ],
  "metadata": {
    "kernelspec": {
      "display_name": "Python 3 (ipykernel)",
      "language": "python",
      "name": "python3"
    },
    "language_info": {
      "codemirror_mode": {
        "name": "ipython",
        "version": 3
      },
      "file_extension": ".py",
      "mimetype": "text/x-python",
      "name": "python",
      "nbconvert_exporter": "python",
      "pygments_lexer": "ipython3",
      "version": "3.11.5"
    },
    "colab": {
      "provenance": []
    }
  },
  "nbformat": 4,
  "nbformat_minor": 5
}