{
  "cells": [
    {
      "cell_type": "code",
      "execution_count": null,
      "id": "db42568b-d30f-44b8-b853-a6aabf07d8e6",
      "metadata": {
        "tags": [],
        "id": "db42568b-d30f-44b8-b853-a6aabf07d8e6"
      },
      "outputs": [],
      "source": [
        "import pandas as pd\n",
        "import json\n",
        "\n",
        "# Load the CSV file\n",
        "credits = pd.read_csv('credits.csv')\n",
        "crew_1 = credits[\"crew\"].apply(eval).apply(lambda x: [(d[\"id\"], d[\"credit_id\"], d[\"department\"], d[\"gender\"], d[\"job\"], d[\"name\"], d[\"profile_path\"]) for d in x])\n",
        "credits.drop(['crew', 'cast'], axis = 1, inplace = True)\n",
        "credits = pd.concat([credits,crew_1], axis =1)\n",
        "\n",
        "final_credits = credits.explode('crew')\n",
        "final_credits.dropna(subset=['crew'], inplace=True)\n",
        "\n",
        "final_credits[['crew_id', 'crew_credit_id', 'crew_department', 'crew_gender', 'crew_job', 'crew_name', 'crew_profile_path']] = final_credits['crew'].apply(lambda x: pd.Series({'crew_id': x[0], 'credit_id': x[1], 'crew_department': x[2], 'crew_gender': x[3], 'crew_job': x[4], 'crew_name': x[5], 'crew_profile_path': x[6]}))\n",
        "final_credits.drop(columns=['crew'], inplace=True)\n",
        "final_credits.reset_index(drop=True, inplace=True)\n",
        "final_credits = final_credits.rename(columns={'id':'movie_id'})\n",
        "\n",
        "# Drop primary keys duplicates\n",
        "final_credits.drop_duplicates(subset='crew_credit_id', keep='first', inplace = True)\n",
        "\n",
        "# Save the Data to a new file\n",
        "final_credits.to_csv('final_crew.csv', index = False)"
      ]
    }
  ],
  "metadata": {
    "kernelspec": {
      "display_name": "Python 3 (ipykernel)",
      "language": "python",
      "name": "python3"
    },
    "language_info": {
      "codemirror_mode": {
        "name": "ipython",
        "version": 3
      },
      "file_extension": ".py",
      "mimetype": "text/x-python",
      "name": "python",
      "nbconvert_exporter": "python",
      "pygments_lexer": "ipython3",
      "version": "3.11.5"
    },
    "colab": {
      "provenance": []
    }
  },
  "nbformat": 4,
  "nbformat_minor": 5
}