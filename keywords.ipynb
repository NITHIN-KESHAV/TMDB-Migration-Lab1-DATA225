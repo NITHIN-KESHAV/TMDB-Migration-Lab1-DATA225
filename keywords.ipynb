{
  "cells": [
    {
      "cell_type": "code",
      "execution_count": null,
      "id": "8fb39ddb-3ca9-47c9-9c08-5eddc974257e",
      "metadata": {
        "tags": [],
        "id": "8fb39ddb-3ca9-47c9-9c08-5eddc974257e"
      },
      "outputs": [],
      "source": [
        "import pandas as pd\n",
        "import json\n",
        "\n",
        "# Load the CSV file\n",
        "keywords = pd.read_csv('keywords.csv')\n",
        "keywords_t = keywords[\"keywords\"].apply(eval).apply(lambda x: [(d[\"id\"], d[\"name\"]) for d in x])\n",
        "keywords.drop(columns=['keywords'], inplace=True)\n",
        "keywords = pd.concat([keywords,keywords_t], axis =1)\n",
        "\n",
        "final_keywords = keywords.explode('keywords')\n",
        "final_keywords.dropna(subset=['keywords'], inplace=True)\n",
        "\n",
        "final_keywords[['keyword_id', 'keyword_name']] = final_keywords['keywords'].apply(lambda x: pd.Series({'keyword_id': x[0], 'Keyword_name': x[1]}))\n",
        "final_keywords.drop(columns=['keywords'], inplace=True)\n",
        "final_keywords.reset_index(drop=True, inplace=True)\n",
        "final_keywords = final_keywords.rename(columns={'id':'movie_id'})\n",
        "\n",
        "# Creating a composite primary key - add to keywords\n",
        "final_keywords['keywords_comp'] = final_keywords['movie_id'].astype(str) + '_' + final_keywords['keyword_id'].astype(str)\n",
        "\n",
        "# Dropping primary keys duplicates\n",
        "final_keywords.drop_duplicates(subset='keywords_comp', keep='first', inplace = True)\n",
        "\n",
        "# Save data into a new file\n",
        "final_keywords.to_csv('final_keywords.csv', index = False)"
      ]
    }
  ],
  "metadata": {
    "kernelspec": {
      "display_name": "Python 3 (ipykernel)",
      "language": "python",
      "name": "python3"
    },
    "language_info": {
      "codemirror_mode": {
        "name": "ipython",
        "version": 3
      },
      "file_extension": ".py",
      "mimetype": "text/x-python",
      "name": "python",
      "nbconvert_exporter": "python",
      "pygments_lexer": "ipython3",
      "version": "3.11.5"
    },
    "colab": {
      "provenance": []
    }
  },
  "nbformat": 4,
  "nbformat_minor": 5
}