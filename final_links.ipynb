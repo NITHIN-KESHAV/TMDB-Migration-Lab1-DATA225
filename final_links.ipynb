{
  "cells": [
    {
      "cell_type": "code",
      "execution_count": null,
      "id": "6373b1fa-a78f-472c-8362-42f0da1fe53d",
      "metadata": {
        "tags": [],
        "id": "6373b1fa-a78f-472c-8362-42f0da1fe53d"
      },
      "outputs": [],
      "source": [
        "import pandas as pd\n",
        "import json\n",
        "\n",
        "# Load the CSV file\n",
        "links = pd.read_csv('links.csv')\n",
        "\n",
        "links['imdbId'] = pd.to_numeric(links['imdbId'], errors='coerce')\n",
        "\n",
        "# Drop primary keys duplicates\n",
        "links.drop_duplicates(subset='imdbId', keep='first', inplace = True)\n",
        "\n",
        "# Save data into a new file\n",
        "links.to_csv('final_links.csv', index = False)"
      ]
    }
  ],
  "metadata": {
    "kernelspec": {
      "display_name": "Python 3 (ipykernel)",
      "language": "python",
      "name": "python3"
    },
    "language_info": {
      "codemirror_mode": {
        "name": "ipython",
        "version": 3
      },
      "file_extension": ".py",
      "mimetype": "text/x-python",
      "name": "python",
      "nbconvert_exporter": "python",
      "pygments_lexer": "ipython3",
      "version": "3.11.5"
    },
    "colab": {
      "provenance": []
    }
  },
  "nbformat": 4,
  "nbformat_minor": 5
}