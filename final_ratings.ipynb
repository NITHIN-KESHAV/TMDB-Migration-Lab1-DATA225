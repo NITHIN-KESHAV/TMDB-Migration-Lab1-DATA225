{
  "cells": [
    {
      "cell_type": "code",
      "execution_count": null,
      "id": "8f6cc870-e3a3-4001-a7ab-ae1199945af5",
      "metadata": {
        "tags": [],
        "id": "8f6cc870-e3a3-4001-a7ab-ae1199945af5"
      },
      "outputs": [],
      "source": [
        "import pandas as pd\n",
        "\n",
        "# Load the CSV File\n",
        "data = pd.read_csv('ratings_small.csv', low_memory=False)\n",
        "\n",
        "data['ratings_comp'] = data['movieId'].astype(str) + '_' + data['userId'].astype(str)\n",
        "\n",
        "# Deleting duplicate composite keys\n",
        "data.drop_duplicates(subset='ratings_comp', keep='first', inplace = True)\n",
        "\n",
        "# Renaming the column\n",
        "data.rename(columns={'timestamp': 'time_stamp'}, inplace=True)\n",
        "\n",
        "# Save the data into new file\n",
        "data.to_csv('final_ratings.csv', index = False)"
      ]
    }
  ],
  "metadata": {
    "kernelspec": {
      "display_name": "Python 3 (ipykernel)",
      "language": "python",
      "name": "python3"
    },
    "language_info": {
      "codemirror_mode": {
        "name": "ipython",
        "version": 3
      },
      "file_extension": ".py",
      "mimetype": "text/x-python",
      "name": "python",
      "nbconvert_exporter": "python",
      "pygments_lexer": "ipython3",
      "version": "3.11.5"
    },
    "colab": {
      "provenance": []
    }
  },
  "nbformat": 4,
  "nbformat_minor": 5
}